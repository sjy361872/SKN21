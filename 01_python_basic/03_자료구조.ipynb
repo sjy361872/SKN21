{
 "cells": [
  {
   "cell_type": "markdown",
   "id": "da193321",
   "metadata": {
    "slideshow": {
     "slide_type": "slide"
    }
   },
   "source": [
    "# 자료구조란\n",
    "\n",
    "-   **여러 개의 값들을 모아서 관리**하는 데이터 타입.\n",
    "    -   한 개의 변수는 한 개의 값 밖에는 가지지 못한다. 그러나 하나의 변수로 여러 개의 값 관리해야 할 경우가 있다.\n",
    "    -   하나의 값이 여러개의 값들로 구성된 경우\n",
    "        -   한명의 고객 정보의 경우 이름, 나이, 주소, 전화번호 등 여러개의 값이 모여서 하나의 값이 된다.\n",
    "        -   한 반의 학생들의 이름들은 여러개의 이름들로 구성된다.\n",
    "-   파이썬은 데이터를 모으는 방식에 따라 다음과 같이 4개의 타입을 제공한다.\n",
    "    -   **List:** 순서가 있으며 중복된 값들을 모으는 것을 허용하고 구성하는 값들(원소)을 변경할 수 있다.\n",
    "    -   **Tuple:** 순서가 있으며 중복된 값들을 모으는 것을 허용하는데 구성하는 값들을 변경할 수 없다.\n",
    "    -   **Dictionary:** key-value 형태로 값들을 저장해 관리한다.\n",
    "    -   **Set:** 중복을 허용하지 않고 값들의 순서가 없다.\n",
    "-   **원소, 성분, 요소, element**\n",
    "    -   자료구조의 값들을 구성하는 개별 값들을 말한다.\n",
    "    -   len(자료구조) 함수\n",
    "        -   자료구조 내의 원소의 개수를 반환한다.\n"
   ]
  },
  {
   "cell_type": "markdown",
   "id": "84431cfd",
   "metadata": {
    "slideshow": {
     "slide_type": "slide"
    }
   },
   "source": [
    "# List (리스트)\n",
    "\n",
    "-   값들을 순서대로 모아서 관리하는 자료구조. 원소(element)들을 순번을 이용해 식별한다.\n",
    "    -   각각의 원소가 어떤 값인지를 index(순번)을 가지고 식별하기 때문에 **순서가 있고 그 순서가 매우 중요하다.** 즉 같은 값에 대해 순서가 바뀌면 안된다.\n",
    "-   각각의 원소들은 index를 이용해 식별한다.\n",
    "    -   index는 문자열과 마찮가지로 양수 index와 음수 index 두개가 각 값에 생긴다.\n",
    "    -   양수 index는 앞에서부터 음수 index는 뒤에서 부터 값을 식별할 때 사용하는 것이 편리하다.\n",
    "    -   **index를 가지고 각 원소값의 의미를 식별할 수 있으면 List나 Tuple을 사용한다.**\n",
    "-   중복된 값들을 저장할 수 있다.\n",
    "-   각 원소들의 데이터 타입은 달라도 상관없다.\n",
    "    -   보통은 같은 타입의 데이터를 모은다.\n",
    "-   리스트를 구성하는 **원소들을 변경할 수 있다.** (추가, 삭제, 변경이 가능)\n",
    "    -   원소 변경 여부가 List와 Tuple의 차이이다.\n",
    "\n",
    "## List 생성 구문\n",
    "\n",
    "```python\n",
    "[값, 값, 값, ..]\n",
    "```\n"
   ]
  },
  {
   "cell_type": "code",
   "execution_count": 61,
   "id": "6eef6bd9",
   "metadata": {},
   "outputs": [
    {
     "data": {
      "text/plain": [
       "[1, 10, 100, 1000]"
      ]
     },
     "execution_count": 61,
     "metadata": {},
     "output_type": "execute_result"
    }
   ],
   "source": [
    "l = [1, 10, 100, 1000]\n",
    "l"
   ]
  },
  {
   "cell_type": "code",
   "execution_count": 62,
   "id": "efc59691",
   "metadata": {
    "ExecuteTime": {
     "end_time": "2022-12-18T00:22:24.071490Z",
     "start_time": "2022-12-18T00:22:23.651455Z"
    },
    "slideshow": {
     "slide_type": "fragment"
    }
   },
   "outputs": [],
   "source": [
    "l2 = [\"홍길동\", 20, \"서울\", 182.2, True, False, [\"독서\", \"음악감상\"]]"
   ]
  },
  {
   "cell_type": "code",
   "execution_count": 63,
   "id": "530346c3",
   "metadata": {},
   "outputs": [
    {
     "data": {
      "text/plain": [
       "(4, 7)"
      ]
     },
     "execution_count": 63,
     "metadata": {},
     "output_type": "execute_result"
    }
   ],
   "source": [
    "len(l), len(l2)"
   ]
  },
  {
   "cell_type": "markdown",
   "id": "08d634bf",
   "metadata": {
    "slideshow": {
     "slide_type": "subslide"
    }
   },
   "source": [
    "## Indexing과 Slicing을 이용한 원소(element) 조회 및 변경\n",
    "\n",
    "### Indexing\n",
    "\n",
    "-   하나의 원소를 조회하거나 변경할 때 사용\n",
    "-   리스트\\[index\\]\n",
    "    -   index의 원소를 조회\n",
    "-   리스트\\[index\\] = 값\n",
    "    -   index의 원소를 변경\n"
   ]
  },
  {
   "cell_type": "markdown",
   "id": "ab5a40cb",
   "metadata": {
    "slideshow": {
     "slide_type": "fragment"
    }
   },
   "source": [
    "### Slicing\n",
    "\n",
    "-   범위로 조회하거나 그 범위의 값들을 변경한다.\n",
    "-   기본구문: **리스트\\[ 시작 index : 종료 index : 간격\\]**\n",
    "    -   시작 index ~ (종료 index – 1)\n",
    "    -   간격을 지정하면 간격만큼 index를 증/감한다. (생략 시 1이 기본 간격)\n",
    "-   **0번 index 부터 조회 할 경우 시작 index는 생략가능**\n",
    "    -   리스트 \\[ : 5\\] => 0 ~ 4 까지 조회\n",
    "-   **마지막 index까지 (끝까지) 조회 할 경우 종료 index는 생략 가능**\n",
    "    -   리스트\\[2 : \\] => 2번 index 에서 끝까지\n",
    "-   **명시적으로 간격을 줄 경우**\n",
    "    -   리스트\\[ : : 3 \\] => 0, 3, 6, 9.. index의 값 조회\n",
    "    -   리스트\\[1 : 9 : 2\\] => 1, 3, 5, 7 index의 값 조회\n",
    "-   **시작 index > 종료 index, 간격을 음수로 하면 역으로 반환한다.(Reverse)**\n",
    "    -   리스트\\[5: 1: -1\\] => 5, 4, 3, 2 index의 값 조회\n",
    "    -   리스트\\[: : -1\\] => 마지막 index ~ 0번 index 까지 의미. Reverse 한다.\n",
    "\n",
    "#### slicing을 이용한 값 변경\n",
    "\n",
    "-   slicing 을 이용할 경우 slicing된 원소 개수와 동일한 개수의 값들을 대입한다.\n",
    "    -   `리스트[1:5] = 10,20,30,40` : index 1, 2, 3, 4의 값을 각각 10, 20, 30, 40 으로 변경\n"
   ]
  },
  {
   "cell_type": "code",
   "execution_count": 64,
   "id": "a758ab6d",
   "metadata": {},
   "outputs": [
    {
     "data": {
      "text/plain": [
       "1000"
      ]
     },
     "execution_count": 64,
     "metadata": {},
     "output_type": "execute_result"
    }
   ],
   "source": [
    "#indexing\n",
    "l[0]\n",
    "l[3]\n",
    "l[-1]"
   ]
  },
  {
   "cell_type": "code",
   "execution_count": 65,
   "id": "5d462776",
   "metadata": {
    "slideshow": {
     "slide_type": "fragment"
    }
   },
   "outputs": [],
   "source": [
    "l[0] = 500\n",
    "l3 = [10, 20, 30, 40, 50, 60, 70, 80, 90]"
   ]
  },
  {
   "cell_type": "code",
   "execution_count": 66,
   "id": "f0c63553",
   "metadata": {},
   "outputs": [
    {
     "data": {
      "text/plain": [
       "[40, 50, 60, 70]"
      ]
     },
     "execution_count": 66,
     "metadata": {},
     "output_type": "execute_result"
    }
   ],
   "source": [
    "#slicing\n",
    "l3[3:7]"
   ]
  },
  {
   "cell_type": "code",
   "execution_count": 67,
   "id": "6737c2b3",
   "metadata": {},
   "outputs": [
    {
     "data": {
      "text/plain": [
       "[90, 80, 70, 60, 50, 40, 30, 20, 10]"
      ]
     },
     "execution_count": 67,
     "metadata": {},
     "output_type": "execute_result"
    }
   ],
   "source": [
    "l3[::-1]"
   ]
  },
  {
   "cell_type": "code",
   "execution_count": 68,
   "id": "becc8468",
   "metadata": {},
   "outputs": [
    {
     "data": {
      "text/plain": [
       "[1000, 2000, 3000, 40, 50, 60, 70, 80, 90]"
      ]
     },
     "execution_count": 68,
     "metadata": {},
     "output_type": "execute_result"
    }
   ],
   "source": [
    "l3[:3] = 1000, 2000, 3000\n",
    "l3"
   ]
  },
  {
   "cell_type": "markdown",
   "id": "a4f9fe12",
   "metadata": {
    "slideshow": {
     "slide_type": "slide"
    }
   },
   "source": [
    "## List 연산자\n",
    "\n",
    "-   **리스트 + 리스트**\n",
    "    -   두 리스트의 원소들을 합친 리스트를 반환한다.\n",
    "-   **리스트 \\* 정수**\n",
    "    -   같은 리스트의 원소들을 정수번 합친 리스트를 반환한다.\n",
    "-   **in, not in 연산자**\n",
    "    -   값 in 리스트\n",
    "        -   리스트의 원소로 값이 **있으면** True, 없으면 False 반환\n",
    "    -   값 not in 리스트\n",
    "        -   리스트의 원소로 값이 **없으면** True, 있으면 False 반환\n",
    "-   **len(리스트)**\n",
    "    -   리스트 내의 원소수를 반환.\n"
   ]
  },
  {
   "cell_type": "markdown",
   "id": "966d7f40",
   "metadata": {},
   "source": []
  },
  {
   "cell_type": "code",
   "execution_count": 69,
   "id": "db069ee7",
   "metadata": {},
   "outputs": [],
   "source": [
    "a = [10, 20, 30]\n",
    "b = [\"가\", \"나\", \"다\", \"라\"]"
   ]
  },
  {
   "cell_type": "code",
   "execution_count": 70,
   "id": "eca35662",
   "metadata": {},
   "outputs": [
    {
     "data": {
      "text/plain": [
       "[10, 20, 30, '가', '나', '다', '라']"
      ]
     },
     "execution_count": 70,
     "metadata": {},
     "output_type": "execute_result"
    }
   ],
   "source": [
    "c = a+b\n",
    "c"
   ]
  },
  {
   "cell_type": "code",
   "execution_count": 71,
   "id": "4cfe267a",
   "metadata": {},
   "outputs": [
    {
     "data": {
      "text/plain": [
       "[10, 20, 30, 10, 20, 30, 10, 20, 30]"
      ]
     },
     "execution_count": 71,
     "metadata": {},
     "output_type": "execute_result"
    }
   ],
   "source": [
    "d = a * 3 # a + a + a\n",
    "d"
   ]
  },
  {
   "cell_type": "code",
   "execution_count": 72,
   "id": "f085e817",
   "metadata": {
    "ExecuteTime": {
     "end_time": "2022-12-17T14:17:03.293505Z",
     "start_time": "2022-12-17T14:17:03.285501Z"
    },
    "slideshow": {
     "slide_type": "fragment"
    }
   },
   "outputs": [
    {
     "data": {
      "text/plain": [
       "True"
      ]
     },
     "execution_count": 72,
     "metadata": {},
     "output_type": "execute_result"
    }
   ],
   "source": [
    "20 in d\n",
    "# 1000 ind d"
   ]
  },
  {
   "cell_type": "markdown",
   "id": "f90af754",
   "metadata": {
    "slideshow": {
     "slide_type": "slide"
    }
   },
   "source": [
    "## 중첩 리스트 (Nested List)\n",
    "\n",
    "-   List가 원소로 List를 가지는 것을 말한다.\n",
    "    -   List를 포함한 모든 자료구조 타입들도 다 값이므로 다른 자료구조의 원소로 들어갈 수 있다.\n"
   ]
  },
  {
   "cell_type": "code",
   "execution_count": 73,
   "id": "4f52b717",
   "metadata": {},
   "outputs": [
    {
     "data": {
      "text/plain": [
       "2"
      ]
     },
     "execution_count": 73,
     "metadata": {},
     "output_type": "execute_result"
    }
   ],
   "source": [
    "l5 = [[1, 2, 3], [4, 5, 6]]\n",
    "len(l5)"
   ]
  },
  {
   "cell_type": "code",
   "execution_count": 74,
   "id": "01bede57",
   "metadata": {
    "slideshow": {
     "slide_type": "fragment"
    }
   },
   "outputs": [
    {
     "data": {
      "text/plain": [
       "2"
      ]
     },
     "execution_count": 74,
     "metadata": {},
     "output_type": "execute_result"
    }
   ],
   "source": [
    "l5[0][1]"
   ]
  },
  {
   "cell_type": "code",
   "execution_count": null,
   "id": "2dfd6c46",
   "metadata": {
    "slideshow": {
     "slide_type": "fragment"
    }
   },
   "outputs": [],
   "source": []
  },
  {
   "cell_type": "markdown",
   "id": "826b8780",
   "metadata": {
    "slideshow": {
     "slide_type": "slide"
    }
   },
   "source": [
    "## List 주요 메소드\n",
    "\n",
    "| 메소드                       | 설명                                                                                 |\n",
    "| :--------------------------- | ------------------------------------------------------------------------------------ |\n",
    "| append(value)                | value를 추가한다.                                                                    |\n",
    "| extend(List)                 | List의 원소들을 추가한다.                                                            |\n",
    "| sort(\\[reverse=False\\])      | 원소들을 오름차순 정렬한다. reverse=True로 하면 내림차순정렬 한다.                   |\n",
    "| insert(index, 삽입할값)      | 지정한 index에 '삽입할값'을 삽입한다.                                                |\n",
    "| remove(삭제할값)             | '삭제할값' 값과 같은 원소를 삭제한다.                                                |\n",
    "| index(찾을값\\[, 시작index\\]) | '찾을값'의 index를 반환한다.                                                         |\n",
    "| pop(\\[index\\])               | index의 값을 반환하면서 삭제한다. index 생략하면 가장 마지막 값을 반환하며 삭제한다. |\n",
    "| count(값)                    | '값'이 리스트의 원소로 몇개 있는지 반환한다.                                         |\n",
    "| clear()                      | 리스트 안의 모든 원소들을 삭제한다.                                                  |\n"
   ]
  },
  {
   "cell_type": "code",
   "execution_count": 75,
   "id": "041be1da",
   "metadata": {},
   "outputs": [
    {
     "data": {
      "text/plain": [
       "[500, 10, 100, 1000, 2000]"
      ]
     },
     "execution_count": 75,
     "metadata": {},
     "output_type": "execute_result"
    }
   ],
   "source": [
    "l.append(2000)\n",
    "l"
   ]
  },
  {
   "cell_type": "code",
   "execution_count": 76,
   "id": "4b14d8e8",
   "metadata": {
    "slideshow": {
     "slide_type": "fragment"
    }
   },
   "outputs": [
    {
     "data": {
      "text/plain": [
       "[500, 10, 100, 1000, 2000, 1, 2, 3, 4, 5]"
      ]
     },
     "execution_count": 76,
     "metadata": {},
     "output_type": "execute_result"
    }
   ],
   "source": [
    "l.extend([1,2,3,4,5])\n",
    "l"
   ]
  },
  {
   "cell_type": "code",
   "execution_count": 77,
   "id": "899528d9",
   "metadata": {},
   "outputs": [
    {
     "data": {
      "text/plain": [
       "['가', 500, 10, 100, 1000, 2000, 1, 2, 3, 4, 5]"
      ]
     },
     "execution_count": 77,
     "metadata": {},
     "output_type": "execute_result"
    }
   ],
   "source": [
    "l.insert(0, \"가\") # 리스트 l에 index 0에 \"가\"를 삽입\n",
    "l"
   ]
  },
  {
   "cell_type": "code",
   "execution_count": 78,
   "id": "e49433f4",
   "metadata": {},
   "outputs": [
    {
     "data": {
      "text/plain": [
       "['가', 500, 100, 1000, 2000, 1, 2, 3, 4, 5]"
      ]
     },
     "execution_count": 78,
     "metadata": {},
     "output_type": "execute_result"
    }
   ],
   "source": [
    "# 삭제\n",
    "## 값으로 삭제\n",
    "l.remove(10)\n",
    "l"
   ]
  },
  {
   "cell_type": "code",
   "execution_count": 79,
   "id": "03f08d2a",
   "metadata": {},
   "outputs": [
    {
     "data": {
      "text/plain": [
       "5"
      ]
     },
     "execution_count": 79,
     "metadata": {},
     "output_type": "execute_result"
    }
   ],
   "source": [
    "## index로 삭제\n",
    "l.pop() # 마지막 index의 값을 삭제하면서 반환."
   ]
  },
  {
   "cell_type": "code",
   "execution_count": 80,
   "id": "47693522",
   "metadata": {},
   "outputs": [
    {
     "data": {
      "text/plain": [
       "[]"
      ]
     },
     "execution_count": 80,
     "metadata": {},
     "output_type": "execute_result"
    }
   ],
   "source": [
    "l.clear()\n",
    "l"
   ]
  },
  {
   "cell_type": "code",
   "execution_count": 81,
   "id": "41e64c5f",
   "metadata": {},
   "outputs": [
    {
     "data": {
      "text/plain": [
       "[-50, -20, 1, 4, 72, 100]"
      ]
     },
     "execution_count": 81,
     "metadata": {},
     "output_type": "execute_result"
    }
   ],
   "source": [
    "l = [4, -20, 1, 100, -50, 72]\n",
    "# 정렬: 오름차순, 내림차순\n",
    "l.sort()\n",
    "l"
   ]
  },
  {
   "cell_type": "code",
   "execution_count": 82,
   "id": "8237b79d",
   "metadata": {},
   "outputs": [
    {
     "data": {
      "text/plain": [
       "[100, 72, 4, 1, -20, -50]"
      ]
     },
     "execution_count": 82,
     "metadata": {},
     "output_type": "execute_result"
    }
   ],
   "source": [
    "l.sort(reverse=True)\n",
    "l"
   ]
  },
  {
   "cell_type": "code",
   "execution_count": 83,
   "id": "aa509587",
   "metadata": {},
   "outputs": [],
   "source": [
    "t1 = (1, 2, 3, 4, 5)"
   ]
  },
  {
   "cell_type": "code",
   "execution_count": 84,
   "id": "7bcd04d5",
   "metadata": {},
   "outputs": [
    {
     "data": {
      "text/plain": [
       "('가', 100, 20.2, True)"
      ]
     },
     "execution_count": 84,
     "metadata": {},
     "output_type": "execute_result"
    }
   ],
   "source": [
    "t2 = (\"가\", 100, 20.2, True)\n",
    "t2"
   ]
  },
  {
   "cell_type": "code",
   "execution_count": 85,
   "id": "2c5da43c",
   "metadata": {},
   "outputs": [
    {
     "name": "stdout",
     "output_type": "stream",
     "text": [
      "<class 'tuple'>\n"
     ]
    },
    {
     "data": {
      "text/plain": [
       "(100, 200, 300, 400, '나')"
      ]
     },
     "execution_count": 85,
     "metadata": {},
     "output_type": "execute_result"
    }
   ],
   "source": [
    "t3 = 100, 200, 300, 400, \"나\"\n",
    "print(type(t3))\n",
    "t3"
   ]
  },
  {
   "cell_type": "code",
   "execution_count": 86,
   "id": "b332d5d6",
   "metadata": {},
   "outputs": [],
   "source": [
    "a, b, c = 10, 20, 30 #튜플대입"
   ]
  },
  {
   "cell_type": "code",
   "execution_count": 87,
   "id": "7be24d07",
   "metadata": {},
   "outputs": [
    {
     "name": "stdout",
     "output_type": "stream",
     "text": [
      "10 20 30\n"
     ]
    }
   ],
   "source": [
    "a, b, c = [10, 20, 30] #리스트대입\n",
    "print(a, b, c)"
   ]
  },
  {
   "cell_type": "code",
   "execution_count": 88,
   "id": "997b2ff9",
   "metadata": {},
   "outputs": [
    {
     "data": {
      "text/plain": [
       "(tuple, 1)"
      ]
     },
     "execution_count": 88,
     "metadata": {},
     "output_type": "execute_result"
    }
   ],
   "source": [
    "t4 = (100,) # 튜플. (100): 정수\n",
    "type(t4)\n",
    "\n",
    "t5 = 100,\n",
    "type(t5), len(t5)"
   ]
  },
  {
   "cell_type": "code",
   "execution_count": 89,
   "id": "9f540cce",
   "metadata": {},
   "outputs": [
    {
     "data": {
      "text/plain": [
       "tuple"
      ]
     },
     "execution_count": 89,
     "metadata": {},
     "output_type": "execute_result"
    }
   ],
   "source": [
    "a = [1, 2, 3],\n",
    "type(a)"
   ]
  },
  {
   "cell_type": "code",
   "execution_count": 91,
   "id": "90642d43",
   "metadata": {},
   "outputs": [
    {
     "data": {
      "text/plain": [
       "(5, 4, 3, 2, 1)"
      ]
     },
     "execution_count": 91,
     "metadata": {},
     "output_type": "execute_result"
    }
   ],
   "source": [
    "t1[1:4]\n",
    "t1[:4]\n",
    "t1[3:]\n",
    "t1[::2]\n",
    "a = t1[::-1]\n",
    "a"
   ]
  },
  {
   "cell_type": "markdown",
   "id": "16954356",
   "metadata": {
    "slideshow": {
     "slide_type": "slide"
    }
   },
   "source": [
    "## Indexing과 Slicing을 이용한 원소(element) 조회\n",
    "\n",
    "-   리스트와 동일하다.\n",
    "-   단 튜플은 조회만 가능하고 원소를 변경할 수 없다.\n"
   ]
  },
  {
   "cell_type": "code",
   "execution_count": null,
   "id": "fa92bc45",
   "metadata": {},
   "outputs": [],
   "source": []
  },
  {
   "cell_type": "code",
   "execution_count": null,
   "id": "6c5b9b2c",
   "metadata": {
    "slideshow": {
     "slide_type": "fragment"
    }
   },
   "outputs": [],
   "source": []
  },
  {
   "cell_type": "markdown",
   "id": "135101f3",
   "metadata": {
    "slideshow": {
     "slide_type": "slide"
    }
   },
   "source": [
    "## Tuple 연산자\n",
    "\n",
    "-   **tuple + tuple**\n",
    "    -   두 tuple의 원소들을 합친 tuple을 반환한다.\n",
    "-   **tuple \\* 정수**\n",
    "    -   같은 tuple의 원소들을 정수번 합친 tuple를 반환한다.\n",
    "-   **in, not in 연산자**\n",
    "    -   값 in tuple\n",
    "        -   tuple의 원소로 값이 **있으면** True, 없으면 False 반환\n",
    "    -   값 not in tuple\n",
    "        -   tuple의 원소로 값이 **없으면** True, 있으면 False 반환\n",
    "-   **len(tuple)**\n",
    "    -   tuple의 원소 개수 반환\n"
   ]
  },
  {
   "cell_type": "code",
   "execution_count": null,
   "id": "c39c878c",
   "metadata": {},
   "outputs": [],
   "source": []
  },
  {
   "cell_type": "code",
   "execution_count": null,
   "id": "5903e00f",
   "metadata": {
    "slideshow": {
     "slide_type": "fragment"
    }
   },
   "outputs": [],
   "source": []
  },
  {
   "cell_type": "markdown",
   "id": "89803fdd",
   "metadata": {
    "slideshow": {
     "slide_type": "subslide"
    }
   },
   "source": [
    "## Tuple의 주요 메소드\n",
    "\n",
    "| 메소드                        | 설명                                |\n",
    "| :---------------------------- | ----------------------------------- |\n",
    "| index(찾을값 \\[, 시작index\\]) | '찾을값'이 몇번 index인지 반환한다. |\n",
    "| count(값)                     | 원소로 '값'이 몇개 있는지 반환한다. |\n"
   ]
  },
  {
   "cell_type": "code",
   "execution_count": 92,
   "id": "e8e4d78e",
   "metadata": {},
   "outputs": [
    {
     "data": {
      "text/plain": [
       "2"
      ]
     },
     "execution_count": 92,
     "metadata": {},
     "output_type": "execute_result"
    }
   ],
   "source": [
    "t6 = (1, 2, 3, 1, 2, 3, 1, 1, 1, 3)\n",
    "t6.index(3) # 값 3의 위치(index)를 조회"
   ]
  },
  {
   "cell_type": "code",
   "execution_count": 93,
   "id": "93a527af",
   "metadata": {
    "slideshow": {
     "slide_type": "fragment"
    }
   },
   "outputs": [
    {
     "data": {
      "text/plain": [
       "5"
      ]
     },
     "execution_count": 93,
     "metadata": {},
     "output_type": "execute_result"
    }
   ],
   "source": [
    "t6.index(3, 4) # 3의 INDEX를 찾는다. 4 index에서 부터 찾기 시작. "
   ]
  },
  {
   "cell_type": "code",
   "execution_count": 94,
   "id": "cc0056f9",
   "metadata": {},
   "outputs": [
    {
     "data": {
      "text/plain": [
       "5"
      ]
     },
     "execution_count": 94,
     "metadata": {},
     "output_type": "execute_result"
    }
   ],
   "source": [
    "t6.count(3) # 값 3이 몇개 있는지 조회\n",
    "t6.count(1)"
   ]
  },
  {
   "cell_type": "markdown",
   "id": "e6c196f5",
   "metadata": {
    "slideshow": {
     "slide_type": "slide"
    }
   },
   "source": [
    "# Dictionary\n",
    "\n",
    "-   값을 키(key)-값(value) 쌍으로 묶어서 저장하는 자료구조이다.\n",
    "    -   리스트나 튜플의 index의 역할을 하는 key를 직접 지정한다.\n",
    "    -   서로 의미가 다른 값들을 하나로 묶을 때 그 값의 의미를 key로 가질 수 있는 dictionary를 사용한다.\n",
    "        -   cf) 값의 의미가 같을 경우 List나 Tuple을 사용한다.\n",
    "    -   key-value 쌍으로 묶은 데이터 한개를 **item 또는 entry**라고 한다.\n",
    "    -   key는 중복을 허용하지 않고 value는 중복을 허용한다.\n",
    "\n",
    "## Dictionary 생성\n",
    "\n",
    "-   구문\n",
    "    1. `{ 키 : 값, 키 : 값, 키 : 값 }`\n",
    "    2. dict(key=value, key=value) 함수 이용\n",
    "    -   키(key)는 불변(Immutable)의 값들만 사용 가능하다. (숫자, 문자열, 튜플) 일반적으로 문자열을 사용한다.\n",
    "    -   dict() 함수를 사용할 경우 key는 변수로 정의한다\n"
   ]
  },
  {
   "cell_type": "code",
   "execution_count": 98,
   "id": "18611386",
   "metadata": {},
   "outputs": [
    {
     "data": {
      "text/plain": [
       "{'이름': '홍길동', '나이': 20, '주소': '서울'}"
      ]
     },
     "execution_count": 98,
     "metadata": {},
     "output_type": "execute_result"
    }
   ],
   "source": [
    "d1 = {\"이름\":\"홍길동\", \"나이\":20, \"주소\":\"서울\"}\n",
    "d1"
   ]
  },
  {
   "cell_type": "code",
   "execution_count": 96,
   "id": "d9d37f28",
   "metadata": {
    "slideshow": {
     "slide_type": "fragment"
    }
   },
   "outputs": [
    {
     "data": {
      "text/plain": [
       "{'이름': '이순신', '키': 190, '나이': 20}"
      ]
     },
     "execution_count": 96,
     "metadata": {},
     "output_type": "execute_result"
    }
   ],
   "source": [
    "d2 = dict(이름=\"이순신\", 키=190, 나이=20)\n",
    "d2"
   ]
  },
  {
   "cell_type": "code",
   "execution_count": 123,
   "id": "97350ba0",
   "metadata": {},
   "outputs": [
    {
     "data": {
      "text/plain": [
       "{'이름': '홍길동', '나이': 20, '주소': '서울', '취미': ['게임', '독서']}"
      ]
     },
     "execution_count": 123,
     "metadata": {},
     "output_type": "execute_result"
    }
   ],
   "source": [
    "d3 = {\n",
    "    \"이름\":\"홍길동\",\n",
    "    \"나이\":20,\n",
    "    \"주소\":\"서울\",\n",
    "    \"취미\":[\"게임\",\"독서\"]\n",
    "}\n",
    "d3"
   ]
  },
  {
   "cell_type": "code",
   "execution_count": null,
   "id": "0e477972",
   "metadata": {},
   "outputs": [],
   "source": [
    "l = [\"이순신\", 20, \"서울\", [\"게임\", \"독서\"]]"
   ]
  },
  {
   "cell_type": "markdown",
   "id": "f8c87bd3",
   "metadata": {
    "slideshow": {
     "slide_type": "subslide"
    }
   },
   "source": [
    "## Dictionary 원소 조회 및 변경\n",
    "\n",
    "-   조회: index에 key값을 식별자로 지정한다.\n",
    "    -   dictionary\\[ key \\]\n",
    "    -   없는 키로 조회 시 KeyError 발생\n",
    "-   변경\n",
    "    -   dictionary\\[ key \\] = 값\n",
    "    -   있는 key값에 값을 대입하면 변경이고 없는 key 일 경우는 새로운 item을 추가하는 것이다.\n"
   ]
  },
  {
   "cell_type": "code",
   "execution_count": 103,
   "id": "5c8cec2f",
   "metadata": {},
   "outputs": [
    {
     "data": {
      "text/plain": [
       "('홍길동', 20)"
      ]
     },
     "execution_count": 103,
     "metadata": {},
     "output_type": "execute_result"
    }
   ],
   "source": [
    "d3['이름'], d3['나이']"
   ]
  },
  {
   "cell_type": "code",
   "execution_count": 104,
   "id": "459db630",
   "metadata": {
    "slideshow": {
     "slide_type": "fragment"
    }
   },
   "outputs": [
    {
     "data": {
      "text/plain": [
       "{'이름': '홍길동', '나이': 50, '주소': '서울', '취미': ['게임', '독서']}"
      ]
     },
     "execution_count": 104,
     "metadata": {},
     "output_type": "execute_result"
    }
   ],
   "source": [
    "# 변경 - 있는 KEY에 값을 대입\n",
    "d3[\"나이\"] = 50\n",
    "d3"
   ]
  },
  {
   "cell_type": "code",
   "execution_count": 105,
   "id": "6da19005",
   "metadata": {},
   "outputs": [
    {
     "data": {
      "text/plain": [
       "{'이름': '홍길동', '나이': 50, '주소': '서울', '취미': ['게임', '독서'], '키': 182.3}"
      ]
     },
     "execution_count": 105,
     "metadata": {},
     "output_type": "execute_result"
    }
   ],
   "source": [
    "# 추가 - 없는 KEY에 값을 대입\n",
    "d3['키'] = 182.3\n",
    "d3"
   ]
  },
  {
   "cell_type": "markdown",
   "id": "d5aade1e",
   "metadata": {
    "slideshow": {
     "slide_type": "slide"
    }
   },
   "source": [
    "## Dictionary 연산자\n",
    "\n",
    "-   **in, not in 연산자**\n",
    "    -   값 in dictionary\n",
    "        -   dictionary의 **Key**로 값이 **있으면** True, 없으면 False 반환\n",
    "    -   값 not in dictionary\n",
    "        -   dictionary의 **Key**로 값이 **없으면** True, 있으면 False 반환\n",
    "-   **len(dictionary)**\n",
    "    -   dictionary의 **Item의 개수** 반환\n"
   ]
  },
  {
   "cell_type": "code",
   "execution_count": 107,
   "id": "71449891",
   "metadata": {},
   "outputs": [
    {
     "data": {
      "text/plain": [
       "{'이름': '홍길동', '나이': 50, '주소': '서울', '취미': ['게임', '독서'], '키': 182.3}"
      ]
     },
     "execution_count": 107,
     "metadata": {},
     "output_type": "execute_result"
    }
   ],
   "source": [
    "\"이름\" in d3 # d3에 \"이름\" 이라는 key가 있는지 여부\n",
    "d3"
   ]
  },
  {
   "cell_type": "code",
   "execution_count": null,
   "id": "4a7c9061",
   "metadata": {
    "slideshow": {
     "slide_type": "fragment"
    }
   },
   "outputs": [],
   "source": []
  },
  {
   "cell_type": "markdown",
   "id": "9f620ec1",
   "metadata": {
    "slideshow": {
     "slide_type": "slide"
    }
   },
   "source": [
    "## Dictionary 주요 메소드\n",
    "\n",
    "| 메소드               | 설명                                                                               |\n",
    "| :------------------- | ---------------------------------------------------------------------------------- |\n",
    "| get(key\\[, 기본값\\]) | key의 item의 값을 반환한다. 단 key가 없을 경우 None또는 기본값을 반환한다.         |\n",
    "| pop(key)             | key의 item의 값을 반환하면서 dictionary에서 삭제한다. 없는 key일 경우 KeyError발생 |\n",
    "| clear()              | dictionary의 모든 item들을 삭제한다.                                               |\n",
    "| del dict\\[key\\]      | key의 item을 제거한다.                                                             |\n",
    "| items()              | item의 key, value를 튜플로 묶어 모아 반환한다.                                     |\n",
    "| keys()               | key값들만 모아 반환한다.                                                           |\n",
    "| values()             | value값들만 모아 반환한다.                                                         |\n"
   ]
  },
  {
   "cell_type": "code",
   "execution_count": 133,
   "id": "55f208b6",
   "metadata": {},
   "outputs": [
    {
     "ename": "KeyError",
     "evalue": "'몸무게'",
     "output_type": "error",
     "traceback": [
      "\u001b[31m---------------------------------------------------------------------------\u001b[39m",
      "\u001b[31mKeyError\u001b[39m                                  Traceback (most recent call last)",
      "\u001b[36mCell\u001b[39m\u001b[36m \u001b[39m\u001b[32mIn[133]\u001b[39m\u001b[32m, line 1\u001b[39m\n\u001b[32m----> \u001b[39m\u001b[32m1\u001b[39m \u001b[43md3\u001b[49m\u001b[43m[\u001b[49m\u001b[33;43m\"\u001b[39;49m\u001b[33;43m몸무게\u001b[39;49m\u001b[33;43m\"\u001b[39;49m\u001b[43m]\u001b[49m \u001b[38;5;66;03m# 없는 키로 조회하면 에러\u001b[39;00m\n",
      "\u001b[31mKeyError\u001b[39m: '몸무게'"
     ]
    }
   ],
   "source": [
    "d3[\"몸무게\"] # 없는 키로 조회하면 에러"
   ]
  },
  {
   "cell_type": "code",
   "execution_count": 109,
   "id": "350e7ad5",
   "metadata": {
    "slideshow": {
     "slide_type": "fragment"
    }
   },
   "outputs": [
    {
     "data": {
      "text/plain": [
       "'홍길동'"
      ]
     },
     "execution_count": 109,
     "metadata": {},
     "output_type": "execute_result"
    }
   ],
   "source": [
    "d3.get(\"이름\") # key로 value를 조회"
   ]
  },
  {
   "cell_type": "code",
   "execution_count": 111,
   "id": "304f16ea",
   "metadata": {},
   "outputs": [
    {
     "data": {
      "text/plain": [
       "'없는 key'"
      ]
     },
     "execution_count": 111,
     "metadata": {},
     "output_type": "execute_result"
    }
   ],
   "source": [
    "d3.get(\"몸무게\") # 없는 key로 조회하면 기본값(None)을 반환.\n",
    "d3.get(\"몸무게\", \"없는 key\")\n",
    "d3\n"
   ]
  },
  {
   "cell_type": "code",
   "execution_count": 112,
   "id": "82b438e9",
   "metadata": {},
   "outputs": [
    {
     "data": {
      "text/plain": [
       "{'이름': '홍길동', '나이': 50, '주소': '서울', '취미': ['게임', '독서'], '키': 182.3}"
      ]
     },
     "execution_count": 112,
     "metadata": {},
     "output_type": "execute_result"
    }
   ],
   "source": [
    "w = d3.get(\"몸무게\", -1)\n",
    "# w == -1"
   ]
  },
  {
   "cell_type": "code",
   "execution_count": 113,
   "id": "5c88480a",
   "metadata": {
    "slideshow": {
     "slide_type": "fragment"
    }
   },
   "outputs": [
    {
     "data": {
      "text/plain": [
       "182.3"
      ]
     },
     "execution_count": 113,
     "metadata": {},
     "output_type": "execute_result"
    }
   ],
   "source": [
    "# 삭제\n",
    "d3.pop(\"키\")"
   ]
  },
  {
   "cell_type": "code",
   "execution_count": 116,
   "id": "327dc294",
   "metadata": {},
   "outputs": [
    {
     "data": {
      "text/plain": [
       "dict_keys(['이름', '나이', '주소', '취미'])"
      ]
     },
     "execution_count": 116,
     "metadata": {},
     "output_type": "execute_result"
    }
   ],
   "source": [
    "# 키값들 조회\n",
    "d3.keys()"
   ]
  },
  {
   "cell_type": "code",
   "execution_count": 124,
   "id": "0724b3e4",
   "metadata": {},
   "outputs": [
    {
     "ename": "TypeError",
     "evalue": "dict.values() takes no arguments (4 given)",
     "output_type": "error",
     "traceback": [
      "\u001b[31m---------------------------------------------------------------------------\u001b[39m",
      "\u001b[31mTypeError\u001b[39m                                 Traceback (most recent call last)",
      "\u001b[36mCell\u001b[39m\u001b[36m \u001b[39m\u001b[32mIn[124]\u001b[39m\u001b[32m, line 2\u001b[39m\n\u001b[32m      1\u001b[39m d3\n\u001b[32m----> \u001b[39m\u001b[32m2\u001b[39m \u001b[43md3\u001b[49m\u001b[43m.\u001b[49m\u001b[43mvalues\u001b[49m\u001b[43m(\u001b[49m\u001b[43m[\u001b[49m\u001b[33;43m'\u001b[39;49m\u001b[33;43m홍길동\u001b[39;49m\u001b[33;43m'\u001b[39;49m\u001b[43m]\u001b[49m\u001b[43m,\u001b[49m\u001b[43m \u001b[49m\u001b[32;43m50\u001b[39;49m\u001b[43m,\u001b[49m\u001b[43m \u001b[49m\u001b[33;43m'\u001b[39;49m\u001b[33;43m서울\u001b[39;49m\u001b[33;43m'\u001b[39;49m\u001b[43m,\u001b[49m\u001b[43m \u001b[49m\u001b[43m[\u001b[49m\u001b[33;43m'\u001b[39;49m\u001b[33;43m게임\u001b[39;49m\u001b[33;43m'\u001b[39;49m\u001b[43m,\u001b[49m\u001b[43m \u001b[49m\u001b[33;43m'\u001b[39;49m\u001b[33;43m독서\u001b[39;49m\u001b[33;43m'\u001b[39;49m\u001b[43m]\u001b[49m\u001b[43m)\u001b[49m\n",
      "\u001b[31mTypeError\u001b[39m: dict.values() takes no arguments (4 given)"
     ]
    }
   ],
   "source": [
    "d3\n",
    "d3.values(['홍길동'], 50, '서울', ['게임', '독서'])\n"
   ]
  },
  {
   "cell_type": "code",
   "execution_count": 157,
   "id": "e514f1e8",
   "metadata": {},
   "outputs": [
    {
     "name": "stdout",
     "output_type": "stream",
     "text": [
      "1\n",
      "2\n",
      "3\n",
      "4\n",
      "5\n"
     ]
    }
   ],
   "source": [
    "s2 = {1,2,3,4,5}\n",
    "for v in s2:\n",
    "    print(v)"
   ]
  },
  {
   "cell_type": "code",
   "execution_count": null,
   "id": "0062efed",
   "metadata": {},
   "outputs": [],
   "source": [
    "l = list(s2)\n",
    "# list(변환)"
   ]
  },
  {
   "cell_type": "markdown",
   "id": "79cf0f20",
   "metadata": {
    "slideshow": {
     "slide_type": "slide"
    }
   },
   "source": [
    "## Set 연산자\n",
    "\n",
    "-   **in, not in 연산자**\n",
    "    -   값 in Set\n",
    "        -   Set의 원소로 값이 **있으면** True, 없으면 False 반환\n",
    "    -   값 not in Set\n",
    "        -   Set의 원소로 값이 **없으면** True, 있으면 False 반환\n",
    "-   **len(Set)**\n",
    "    -   Set의 **원소의 개수** 반환\n",
    "-   **[집합연산자](#Set의-집합연산-연산자-및-메소드)**\n"
   ]
  },
  {
   "cell_type": "code",
   "execution_count": null,
   "id": "1c530013",
   "metadata": {},
   "outputs": [],
   "source": []
  },
  {
   "cell_type": "code",
   "execution_count": null,
   "id": "80be18ad",
   "metadata": {
    "slideshow": {
     "slide_type": "fragment"
    }
   },
   "outputs": [],
   "source": []
  },
  {
   "cell_type": "markdown",
   "id": "080c2a17",
   "metadata": {
    "slideshow": {
     "slide_type": "slide"
    }
   },
   "source": [
    "## Set의 주요 메소드\n",
    "\n",
    "| 메소드           | 설명                                   |\n",
    "| ---------------- | -------------------------------------- |\n",
    "| add(값)          | 집합에 값 추가                         |\n",
    "| update(자료구조) | 자료구조내의 원소들을 모두 집합에 추가 |\n",
    "| pop()            | 원소를 반환하고 Set에서 삭제한다.      |\n",
    "| remove(값)       | 값을 찾아서 Set에서 삭제한다.          |\n"
   ]
  },
  {
   "cell_type": "code",
   "execution_count": 156,
   "id": "6ec0eee0",
   "metadata": {},
   "outputs": [
    {
     "data": {
      "text/plain": [
       "{1, 2, 3, 4, 5}"
      ]
     },
     "execution_count": 156,
     "metadata": {},
     "output_type": "execute_result"
    }
   ],
   "source": []
  },
  {
   "cell_type": "code",
   "execution_count": null,
   "id": "b12f08b0",
   "metadata": {
    "slideshow": {
     "slide_type": "fragment"
    }
   },
   "outputs": [],
   "source": []
  },
  {
   "cell_type": "markdown",
   "id": "33d115cd",
   "metadata": {
    "slideshow": {
     "slide_type": "subslide"
    }
   },
   "source": [
    "## Set의 집합연산 연산자 및 메소드\n",
    "\n",
    "-   합집합\n",
    "    -   집합A | 집합B\n",
    "    -   집합A.union(집합B)\n",
    "-   교집합\n",
    "    -   집합A & 집합B\n",
    "    -   집합A.intersection(집합B)\n",
    "-   차집합\n",
    "    -   집합A - 집합B\n",
    "    -   집합A.difference(집합B)\n"
   ]
  },
  {
   "cell_type": "code",
   "execution_count": null,
   "id": "d2a32b55",
   "metadata": {},
   "outputs": [],
   "source": []
  },
  {
   "cell_type": "code",
   "execution_count": null,
   "id": "e2d43f89",
   "metadata": {},
   "outputs": [],
   "source": []
  },
  {
   "cell_type": "markdown",
   "id": "17bf4f71",
   "metadata": {},
   "source": [
    "# 자료구조를 이용한 대입\n",
    "\n",
    "-   리스트, 튜플, 셋의 원소들을 개별 변수에 대입한다. 어느 자료구조에 적용하느냐에 따라 **리스트 대입, 튜플 대입, 셋 대입** 이라고 한다. 이중 리스트대입이나 튜플대입은 많이 사용된다.\n",
    "-   변수의 개수와 리스트 원소의 개수는 동일해야 한다.\n"
   ]
  },
  {
   "cell_type": "code",
   "execution_count": null,
   "id": "73b925bb",
   "metadata": {},
   "outputs": [],
   "source": []
  },
  {
   "cell_type": "code",
   "execution_count": null,
   "id": "64bf5839",
   "metadata": {
    "slideshow": {
     "slide_type": "fragment"
    }
   },
   "outputs": [],
   "source": []
  },
  {
   "cell_type": "markdown",
   "id": "a3778f41",
   "metadata": {
    "slideshow": {
     "slide_type": "slide"
    }
   },
   "source": [
    "# 자료구조 변환 함수\n",
    "\n",
    "-   **list(자료구조)**\n",
    "    -   대상 자료구조/Iterable을 List로 변환한다.\n",
    "-   **tuple(자료구조)**\n",
    "    -   대상 자료구조/Iterable을 Tuple로 변환\n",
    "-   **set(자료구조)**\n",
    "    -   대상 자료구조/Iterable을 Set으로 변환\n",
    "    -   다른 자료구조의 원소 중 중복을 빼고 조회할 때 set()를 이용해 Set으로 변환한다.\n",
    "-   Dictionary로 변환하는 함수는 없다.\n",
    "    -   dict(key=value, ..) 는 딕셔너리 생성하는 함수이다.\n",
    "-   변경 대상이 Dictionary 일 경우에는 key값들만 모아서 변환한다.\n",
    "\n",
    "> -   **Iterable**\n",
    ">     -   반복가능한 객체.\n",
    ">     -   여러개의 값을 요청을 받을 때마다 하나씩 제공해주는 타입을 iterable 이라고 함.\n",
    ">         -   Iterable이 제공하는 값을 반복문을 이용해 조회할 경우 **for in문**을 사용한다.\n",
    ">     -   대표적으로 자료구조, 문자열 등이 있다.\n"
   ]
  },
  {
   "cell_type": "code",
   "execution_count": 169,
   "id": "07fd6373",
   "metadata": {
    "slideshow": {
     "slide_type": "fragment"
    }
   },
   "outputs": [
    {
     "data": {
      "text/plain": [
       "int"
      ]
     },
     "execution_count": 169,
     "metadata": {},
     "output_type": "execute_result"
    }
   ],
   "source": [
    "a , b, c =10, 20, 30\n",
    "type((a))"
   ]
  },
  {
   "cell_type": "markdown",
   "id": "b4671a5d",
   "metadata": {
    "slideshow": {
     "slide_type": "skip"
    }
   },
   "source": [
    "# TODO\n"
   ]
  },
  {
   "cell_type": "code",
   "execution_count": 90,
   "id": "12398809",
   "metadata": {
    "slideshow": {
     "slide_type": "skip"
    }
   },
   "outputs": [
    {
     "name": "stdout",
     "output_type": "stream",
     "text": [
      "80\n",
      "[100, 90, 100, 80, 70]\n",
      "[80, 70, 100, 80]\n",
      "[90, 80, 100, 90, 85]\n",
      "[100, 100, 70, 80, 95]\n",
      "[100, 90, 100, 80, 70, 100, 80, 90, 20, 85]\n"
     ]
    }
   ],
   "source": [
    "# 문제 1 ~ 7\n",
    "jumsu = [100, 90, 100, 80, 70, 100, 80, 90, 95, 85]\n",
    "# 위 리스트는 학생번호 1번 ~ 10번까지 10명의 시험 점수이다.\n",
    "\n",
    "# (1)  7번의 점수를 출력하세요\n",
    "print(jumsu[6])\n",
    "\n",
    "# (2)  1번부터 5번까지의 점수를 출력하세요.\n",
    "print(jumsu[0:5])\n",
    "\n",
    "# (3)  4, 5, 6, 7번의 점수를 출력하세요.\n",
    "print(jumsu[3:7])\n",
    "\n",
    "# (4) 짝수번째 점수를 출력하세요.\n",
    "print(jumsu[1::2])\n",
    "\n",
    "# (5) 홀수번째 점수를 출력하세요.\n",
    "print(jumsu[::2])\n"
   ]
  },
  {
   "cell_type": "code",
   "execution_count": null,
   "id": "ad7d1982",
   "metadata": {},
   "outputs": [],
   "source": [
    "\n",
    "# (6) 9번의 점수를 20으로 변경하고 전체 출력하세요.\n",
    "jumsu[8]=20\n",
    "print(jumsu)\n"
   ]
  },
  {
   "cell_type": "code",
   "execution_count": 121,
   "id": "6f8f83f6",
   "metadata": {},
   "outputs": [
    {
     "data": {
      "text/plain": [
       "{20, 70, 80, 85, 90, 100}"
      ]
     },
     "execution_count": 121,
     "metadata": {},
     "output_type": "execute_result"
    }
   ],
   "source": [
    "# (7) 중복된 점수는 제거하고 하나씩만 나오도록 출력하세요.\n",
    "omg = set(jumsu)\n",
    "omg"
   ]
  },
  {
   "cell_type": "code",
   "execution_count": null,
   "id": "f09614ab",
   "metadata": {},
   "outputs": [],
   "source": [
    "# 문제 8 ~ 9\n",
    "fruits = [\"복숭아\", \"수박\", \"딸기\"]\n",
    "\n"
   ]
  },
  {
   "cell_type": "code",
   "execution_count": 127,
   "id": "91309cbe",
   "metadata": {},
   "outputs": [
    {
     "data": {
      "text/plain": [
       "['복숭아', '수박', '딸기', '사과', '귤']"
      ]
     },
     "execution_count": 127,
     "metadata": {},
     "output_type": "execute_result"
    }
   ],
   "source": [
    "# (8) fruits 리스트에 마지막 원소로 \"사과\", \"귤\"을 추가하세요.\n",
    "fruits.extend([\"사과\", \"귤\"])\n",
    "fruits\n",
    "\n"
   ]
  },
  {
   "cell_type": "code",
   "execution_count": 128,
   "id": "6ba5faa5",
   "metadata": {},
   "outputs": [
    {
     "data": {
      "text/plain": [
       "['수박', '딸기', '사과', '귤']"
      ]
     },
     "execution_count": 128,
     "metadata": {},
     "output_type": "execute_result"
    }
   ],
   "source": [
    "# (9) fruits 리스트에서 \"복숭아\"를 제거하세요.\n",
    "fruits.remove(\"복숭아\")\n",
    "fruits\n"
   ]
  },
  {
   "cell_type": "code",
   "execution_count": 147,
   "id": "f54cd30b",
   "metadata": {},
   "outputs": [
    {
     "data": {
      "text/plain": [
       "{'나이': 30, 'email주소': 'a@a.com', '취미': ['독서', '게임'], '결혼유무': True}"
      ]
     },
     "execution_count": 147,
     "metadata": {},
     "output_type": "execute_result"
    }
   ],
   "source": [
    "# 문제 10 ~ 15\n",
    "# (10)본인의 이름, 나이, email주소, 취미, 결혼유무를 사전(딕셔너리)으로 생성.\n",
    "# 취미는 2개 이상의 값을 넣는다..\n",
    "d4 = {\n",
    "    \"이름\": \"신지용\",\n",
    "    \"나이\": \"30\",\n",
    "    \"email주소\": \"jiyong1110@naver.com\",\n",
    "    \"취미\": [\"독서\",\"영화보기\"],\n",
    "    \"결혼유무\": \"미혼\"\n",
    "}\n",
    "\n",
    "d5 = dict(name=\"이순신\", 나이=30, email주소=\"a@a.com\", 취미=[\"독서\",\"게임\"], 결혼유무=True)\n",
    "del d5[\"name\"]\n",
    "d5"
   ]
  },
  {
   "cell_type": "code",
   "execution_count": 137,
   "id": "25a15ba5",
   "metadata": {},
   "outputs": [
    {
     "name": "stdout",
     "output_type": "stream",
     "text": [
      "이름: 신지용\n",
      "email주소: jiyong1110@naver.com\n"
     ]
    }
   ],
   "source": [
    "# (11) 위 딕셔너리에서 이름과 email주소를 조회해서 출력하세요.\n",
    "print(\"이름:\", d4.get(\"이름\"))\n",
    "print(\"email주소:\", d4.get(\"email주소\"))\n",
    "\n"
   ]
  },
  {
   "cell_type": "code",
   "execution_count": 141,
   "id": "56985b31",
   "metadata": {},
   "outputs": [
    {
     "name": "stdout",
     "output_type": "stream",
     "text": [
      "영화보기\n"
     ]
    }
   ],
   "source": [
    "# (12) 위 딕셔너리에서 취미중 두번째 취미를 조회해서 출력하세요.\n",
    "print(d4.get(\"취미\")[1])\n",
    "\n"
   ]
  },
  {
   "cell_type": "code",
   "execution_count": 143,
   "id": "6e0624af",
   "metadata": {},
   "outputs": [
    {
     "data": {
      "text/plain": [
       "{'이름': '신지용',\n",
       " '나이': '30',\n",
       " 'email주소': 'jiyong1110@naver.com',\n",
       " '취미': ['독서', '영화보기'],\n",
       " '결혼유무': '미혼',\n",
       " '몸무게': 70,\n",
       " '키': 190}"
      ]
     },
     "execution_count": 143,
     "metadata": {},
     "output_type": "execute_result"
    }
   ],
   "source": [
    "# (13) 위 딕셔너리에 몸무게와 키 항목을 추가하세요.\n",
    "d4[\"몸무게\"] = 70\n",
    "d4[\"키\"] = 190\n",
    "d4\n"
   ]
  },
  {
   "cell_type": "code",
   "execution_count": null,
   "id": "ddb637bc",
   "metadata": {},
   "outputs": [],
   "source": [
    "# (14) 위 딕셔너리에서 email 주소를 다른 값으로 변경하세요.\n",
    "d4[\"email주소\"] = \"jiyong1110@gmail.com\"\n"
   ]
  },
  {
   "cell_type": "code",
   "execution_count": 144,
   "id": "9d71c7b3",
   "metadata": {},
   "outputs": [
    {
     "data": {
      "text/plain": [
       "{'이름': '신지용',\n",
       " 'email주소': 'jiyong1110@naver.com',\n",
       " '취미': ['독서', '영화보기'],\n",
       " '결혼유무': '미혼',\n",
       " '몸무게': 70,\n",
       " '키': 190}"
      ]
     },
     "execution_count": 144,
     "metadata": {},
     "output_type": "execute_result"
    }
   ],
   "source": [
    "# (15) 위 딕셔너리에서 나이를 제거하세요.\n",
    "d4.pop(\"나이\")\n",
    "d4\n"
   ]
  }
 ],
 "metadata": {
  "kernelspec": {
   "display_name": "Python 3",
   "language": "python",
   "name": "python3"
  },
  "language_info": {
   "codemirror_mode": {
    "name": "ipython",
    "version": 3
   },
   "file_extension": ".py",
   "mimetype": "text/x-python",
   "name": "python",
   "nbconvert_exporter": "python",
   "pygments_lexer": "ipython3",
   "version": "3.13.7"
  },
  "toc": {
   "base_numbering": 1,
   "nav_menu": {},
   "number_sections": true,
   "sideBar": true,
   "skip_h1_title": false,
   "title_cell": "Table of Contents",
   "title_sidebar": "Contents",
   "toc_cell": false,
   "toc_position": {
    "height": "calc(100% - 180px)",
    "left": "10px",
    "top": "150px",
    "width": "512px"
   },
   "toc_section_display": true,
   "toc_window_display": true
  },
  "varInspector": {
   "cols": {
    "lenName": 16,
    "lenType": 16,
    "lenVar": 40
   },
   "kernels_config": {
    "python": {
     "delete_cmd_postfix": "",
     "delete_cmd_prefix": "del ",
     "library": "var_list.py",
     "varRefreshCmd": "print(var_dic_list())"
    },
    "r": {
     "delete_cmd_postfix": ") ",
     "delete_cmd_prefix": "rm(",
     "library": "var_list.r",
     "varRefreshCmd": "cat(var_dic_list()) "
    }
   },
   "types_to_exclude": [
    "module",
    "function",
    "builtin_function_or_method",
    "instance",
    "_Feature"
   ],
   "window_display": false
  }
 },
 "nbformat": 4,
 "nbformat_minor": 5
}
