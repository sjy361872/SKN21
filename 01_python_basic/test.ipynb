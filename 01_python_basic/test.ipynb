{
 "cells": [
  {
   "cell_type": "markdown",
   "id": "bbe88d47",
   "metadata": {},
   "source": [
    "# 파이썬 코드 실행"
   ]
  },
  {
   "cell_type": "code",
   "execution_count": 3,
   "id": "894d7f9f",
   "metadata": {},
   "outputs": [
    {
     "data": {
      "text/plain": [
       "2"
      ]
     },
     "execution_count": 3,
     "metadata": {},
     "output_type": "execute_result"
    }
   ],
   "source": [
    "# 단축키\n",
    "# 실행: control + enter , shift + enter\n",
    "# cell 생성 : a (위) , b (아래)\n",
    "1+1"
   ]
  },
  {
   "cell_type": "code",
   "execution_count": 3,
   "id": "a8e27b3d",
   "metadata": {},
   "outputs": [
    {
     "data": {
      "text/plain": [
       "'보석 9 잼 2 코어버스팅'"
      ]
     },
     "execution_count": 3,
     "metadata": {},
     "output_type": "execute_result"
    }
   ],
   "source": [
    "gul = 9\n",
    "gem = 2\n",
    "core =\"버스팅\"\n",
    "a = \"보석 {} 잼 {} 코어{}\"\n",
    "b=a.format(gul,gem,core)\n",
    "b"
   ]
  },
  {
   "cell_type": "code",
   "execution_count": 1,
   "id": "949f56f2",
   "metadata": {},
   "outputs": [
    {
     "name": "stdout",
     "output_type": "stream",
     "text": [
      "5컹스\n"
     ]
    }
   ],
   "source": [
    "omg = 5\n",
    "print (f\"{omg}\"+\"컹스\")"
   ]
  }
 ],
 "metadata": {
  "kernelspec": {
   "display_name": "Python 3",
   "language": "python",
   "name": "python3"
  },
  "language_info": {
   "codemirror_mode": {
    "name": "ipython",
    "version": 3
   },
   "file_extension": ".py",
   "mimetype": "text/x-python",
   "name": "python",
   "nbconvert_exporter": "python",
   "pygments_lexer": "ipython3",
   "version": "3.13.7"
  }
 },
 "nbformat": 4,
 "nbformat_minor": 5
}
